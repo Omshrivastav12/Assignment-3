{
 "cells": [
  {
   "cell_type": "code",
   "execution_count": 1,
   "id": "628de5f9-ed28-4cac-b2bc-239db057379b",
   "metadata": {},
   "outputs": [
    {
     "data": {
      "text/plain": [
       "[1, 4, 9, 16, 25, 36, 49, 64, 81, 100]"
      ]
     },
     "execution_count": 1,
     "metadata": {},
     "output_type": "execute_result"
    }
   ],
   "source": [
    "#Q2 finding square with help of lambda and map\n",
    "l = list(range(1,11))\n",
    "list(map(lambda i : i**2,l))"
   ]
  },
  {
   "cell_type": "code",
   "execution_count": 6,
   "id": "e63b63c7-88e4-476a-a03d-d693486231f2",
   "metadata": {},
   "outputs": [
    {
     "data": {
      "text/plain": [
       "('1', '2', '3', '4', '5', '6', '7', '8', '9', '10')"
      ]
     },
     "execution_count": 6,
     "metadata": {},
     "output_type": "execute_result"
    }
   ],
   "source": [
    "#Q3\n",
    "lst=list(range(1,11))\n",
    "tuple(list(map(lambda x : str(x) ,lst)))"
   ]
  },
  {
   "cell_type": "code",
   "execution_count": 8,
   "id": "f6b2ef44-1ef7-40e4-81a1-4170f25c7030",
   "metadata": {},
   "outputs": [
    {
     "data": {
      "text/plain": [
       "15511210043330985984000000"
      ]
     },
     "execution_count": 8,
     "metadata": {},
     "output_type": "execute_result"
    }
   ],
   "source": [
    "#Q4 \n",
    "l2=list(range(1,26))\n",
    "from functools import reduce\n",
    "reduce(lambda x,y:x*y,l2)"
   ]
  },
  {
   "cell_type": "code",
   "execution_count": 14,
   "id": "0075ff6c-e15c-4308-90c8-7cc40c87ce92",
   "metadata": {},
   "outputs": [
    {
     "data": {
      "text/plain": [
       "[6, 60, 90, 120]"
      ]
     },
     "execution_count": 14,
     "metadata": {},
     "output_type": "execute_result"
    }
   ],
   "source": [
    "#Q5 \n",
    "Given=[2,3,6,9,27,60,90,120,55,46]\n",
    "list(filter(lambda x: x if x%2==0 and x%3==0 else False ,Given))"
   ]
  },
  {
   "cell_type": "code",
   "execution_count": 16,
   "id": "79f581b5-4c8b-4a3f-a4d3-19f7fb0b9a4d",
   "metadata": {},
   "outputs": [
    {
     "data": {
      "text/plain": [
       "['php', 'aba', 'radar', 'level']"
      ]
     },
     "execution_count": 16,
     "metadata": {},
     "output_type": "execute_result"
    }
   ],
   "source": [
    "#Q6\n",
    "gvn =['python','php','aba','radar','level']\n",
    "list(filter(lambda x : x if x==x[::-1] else False,gvn))"
   ]
  },
  {
   "cell_type": "code",
   "execution_count": null,
   "id": "3049f054-4334-4a10-a7d1-7c7c7938bcb3",
   "metadata": {},
   "outputs": [],
   "source": []
  }
 ],
 "metadata": {
  "kernelspec": {
   "display_name": "Python 3 (ipykernel)",
   "language": "python",
   "name": "python3"
  },
  "language_info": {
   "codemirror_mode": {
    "name": "ipython",
    "version": 3
   },
   "file_extension": ".py",
   "mimetype": "text/x-python",
   "name": "python",
   "nbconvert_exporter": "python",
   "pygments_lexer": "ipython3",
   "version": "3.10.8"
  }
 },
 "nbformat": 4,
 "nbformat_minor": 5
}
